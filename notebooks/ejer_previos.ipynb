{
 "cells": [
  {
   "cell_type": "markdown",
   "id": "b39a7f70",
   "metadata": {},
   "source": [
    "# Ejercicios previos al TP:"
   ]
  },
  {
   "cell_type": "code",
   "execution_count": 37,
   "id": "5283117e",
   "metadata": {},
   "outputs": [],
   "source": [
    "import sys\n",
    "import os\n",
    "\n",
    "sys.path.append('../files')\n"
   ]
  },
  {
   "cell_type": "code",
   "execution_count": 38,
   "id": "147275d2",
   "metadata": {},
   "outputs": [],
   "source": [
    "# importo archivos y los asigno a variables\n",
    "import csv\n",
    "file_path_personas = '../files/usu_individual_T324.txt'\n",
    "file_path_viviendas = '../files/usu_hogar_T324.txt'\n",
    "\n",
    "indice_ponderacion_personas = 9 # Cantidad que representa esa fila\n",
    "indice_ponderacion_hogares = 8 "
   ]
  },
  {
   "cell_type": "markdown",
   "id": "39ba14ab",
   "metadata": {},
   "source": [
    "* Informar cuántos varones y mujeres representa el dataset:"
   ]
  },
  {
   "cell_type": "code",
   "execution_count": 39,
   "id": "f6f643a7",
   "metadata": {},
   "outputs": [
    {
     "name": "stdout",
     "output_type": "stream",
     "text": [
      "Cantidad de varones: 14471801 || Cantidad de mujeres: 15248344\n"
     ]
    }
   ],
   "source": [
    "with open(file_path_personas) as archivo_personas:\n",
    "    reader = csv.reader(archivo_personas, delimiter=';')\n",
    "    next(reader)\n",
    "    mujeres = 0\n",
    "    varones = 0\n",
    "    for fila in reader:\n",
    "        if fila[11] == '1':\n",
    "            varones += 1 * int(fila[indice_ponderacion_personas])\n",
    "        else:\n",
    "            mujeres += 1 * int(fila[indice_ponderacion_personas])\n",
    "\n",
    "print(f\"Cantidad de varones: {varones} || Cantidad de mujeres: {mujeres}\")"
   ]
  },
  {
   "cell_type": "markdown",
   "id": "177ba357",
   "metadata": {},
   "source": [
    "* Informen cuántas personas mayores de edad han completado los estudios secundarios:"
   ]
  },
  {
   "cell_type": "code",
   "execution_count": 40,
   "id": "17714ce0",
   "metadata": {},
   "outputs": [
    {
     "name": "stdout",
     "output_type": "stream",
     "text": [
      "La cantidad de personas mayores que terminaron el secundario son: 5834321\n"
     ]
    }
   ],
   "source": [
    "with open(file_path_personas) as archivo_personas:\n",
    "    reader = csv.reader(archivo_personas, delimiter=';')\n",
    "    next(reader)\n",
    "    cant = 0\n",
    "    indice_CH06 = 13 #Indica los años cumplidos\n",
    "    indice_CH12 = 19 #Indica nivel estudio alcanzado\n",
    "    indice_CH13 = 20 #Indica si finalizo ese nivel\n",
    "    for fila in reader:\n",
    "        if int(fila[indice_CH06]) >= 18 and int(fila[indice_CH12]) == 4 and int(fila[indice_CH13]) == 1:\n",
    "            cant += 1 * int(fila[indice_ponderacion_personas])\n",
    "print(f'La cantidad de personas mayores que terminaron el secundario son: {cant}')"
   ]
  },
  {
   "cell_type": "markdown",
   "id": "f875ba95",
   "metadata": {},
   "source": [
    "* Informen el porcentaje de viviendas que son ocupadas por el/la propietario/a de la vivienda y del terreno."
   ]
  },
  {
   "cell_type": "code",
   "execution_count": 41,
   "id": "74415e13",
   "metadata": {},
   "outputs": [
    {
     "name": "stdout",
     "output_type": "stream",
     "text": [
      "El porcentaje de viviendas ocupadas por el propietario de vivienda y terreno son: 60.00 %\n"
     ]
    }
   ],
   "source": [
    "with open(file_path_viviendas) as archivo_viviendas:\n",
    "    reader = csv.reader(archivo_viviendas, delimiter=';')\n",
    "    next(reader)\n",
    "    total_viviendas = 0\n",
    "    viv_cumple_requisito = 0\n",
    "    indice_II7 = 37 # Indice sobre tenencia de vivienda/terreno\n",
    "    for fila in reader:\n",
    "        total_viviendas += 1 * int(fila[indice_ponderacion_hogares])\n",
    "        if int(fila[indice_II7]) == 1:\n",
    "            viv_cumple_requisito += 1 * int(fila[indice_ponderacion_hogares])\n",
    "\n",
    "print(f'El porcentaje de viviendas ocupadas por el propietario de vivienda y terreno son: {(viv_cumple_requisito * 100)/total_viviendas:.2f} %')\n"
   ]
  },
  {
   "cell_type": "markdown",
   "id": "3a8fdc3a",
   "metadata": {},
   "source": [
    "* Informen el aglomerado con mayor y menor cantidad de viviendas con más de 2 ocupantes que no posean baño:"
   ]
  },
  {
   "cell_type": "code",
   "execution_count": 42,
   "id": "5d3a70cf",
   "metadata": {},
   "outputs": [
    {
     "name": "stdout",
     "output_type": "stream",
     "text": [
      "El cod del aglomerado con mayor cantidad de viviendas que cumplen la condicion es: 33, con un total de 8469 viviendas.\n",
      "Por otro lado, muchos aglomerados cumplen con la menor cantidad (cero). Por decir un cod: 2\n"
     ]
    }
   ],
   "source": [
    "# PRUEBO A USAR DICTREADER PARA NO TENER QUE ASIGNAR INDICE DE COLUMNA MANUALMENTE\n",
    "with open(file_path_viviendas) as archivo_viviendas:\n",
    "    reader = csv.DictReader(archivo_viviendas, delimiter=';')\n",
    "    \n",
    "    cod_aglomerados = [2, 3, 4, 5, 6, 7, 8, 9, 10, 12, 13, 14, 15, 17, 18, 19, 20, 22, 23, 25, 26, 27, 29, 30, 31, 32, 33, 34, 36, 38, 91, 93] # Codigos de aglomerados segun dataset\n",
    "    dic_contador = {cod: 0 for cod in cod_aglomerados} # Creo un diccionario con valores en 0 para contabilizar\n",
    "    indice_IV8 = 19 # Indica si tiene baño. 1: tiene //2: no tiene\n",
    "\n",
    "    for fila in reader:\n",
    "        if int(fila['IX_TOT']) > 2 and int(fila['IV8']) == 2: # IX_TOT indica cantidad de ocupantes / IV8 si tiene baño\n",
    "            dic_contador[int(fila['AGLOMERADO'])] += 1 * int(fila['PONDERA'])\n",
    "    \n",
    "cod_min = min(dic_contador, key=dic_contador.get)\n",
    "valor_min = dic_contador[cod_min]\n",
    "\n",
    "cod_max = max(dic_contador, key=dic_contador.get)\n",
    "valor_max = dic_contador[cod_max]\n",
    "\n",
    "print(f'El cod del aglomerado con mayor cantidad de viviendas que cumplen la condicion es: {cod_max}, con un total de {valor_max} viviendas.')\n",
    "print(f'Por otro lado, muchos aglomerados cumplen con la menor cantidad (cero). Por decir un cod: {cod_min}')\n",
    "\n"
   ]
  }
 ],
 "metadata": {
  "kernelspec": {
   "display_name": "Python 3",
   "language": "python",
   "name": "python3"
  },
  "language_info": {
   "codemirror_mode": {
    "name": "ipython",
    "version": 3
   },
   "file_extension": ".py",
   "mimetype": "text/x-python",
   "name": "python",
   "nbconvert_exporter": "python",
   "pygments_lexer": "ipython3",
   "version": "3.12.9"
  }
 },
 "nbformat": 4,
 "nbformat_minor": 5
}
